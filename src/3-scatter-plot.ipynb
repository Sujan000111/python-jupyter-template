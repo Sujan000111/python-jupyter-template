{
 "cells": [
  {
   "cell_type": "markdown",
   "metadata": {},
   "source": [
    "### Exercise 3: Scatter Plot with Annotations"
   ]
  },
  {
   "cell_type": "code",
   "execution_count": null,
   "metadata": {},
   "outputs": [],
   "source": [
    "# TASK: Create a scatter plot with x = [1, 2, 3, 4, 5] and y = [2, 4, 6, 8, 10].\n",
    "# Annotate each point with its (x, y) value, and set the title as 'Scatter Plot with Annotations'.\n",
    "import matplotlib.pyplot as plt\n",
    "\n",
    "# Define x and y values\n",
    "x = [1, 2, 3, 4, 5]\n",
    "y = [2, 4, 6, 8, 10]\n",
    "\n",
    "# Validation check\n",
    "if len(x) != len(y):\n",
    "    raise ValueError(\"Error: 'x' and 'y' lists must have the same length.\")\n",
    "\n",
    "# Create the scatter plot\n",
    "plt.figure(figsize=(6, 4))\n",
    "plt.scatter(x, y, color='blue', marker='o', s=100, label=\"Data Points\")  # Increased point size\n",
    "\n",
    "# Annotate each point with its (x, y) value\n",
    "for i in range(len(x)):\n",
    "    plt.text(x[i], y[i] + 0.3, f\"({x[i]}, {y[i]})\", fontsize=10, ha='center', va='bottom')\n",
    "\n",
    "# Customizations\n",
    "plt.title(\"Scatter Plot with Annotations\", fontsize=14, fontweight='bold')\n",
    "plt.xlabel(\"X values\", fontsize=12)\n",
    "plt.ylabel(\"Y values\", fontsize=12)\n",
    "plt.legend()\n",
    "plt.grid(True, linestyle='--', alpha=0.7)  # Improved grid visibility\n",
    "\n",
    "# Show the plot\n",
    "plt.show()\n"
   ]
  }
 ],
 "metadata": {
  "language_info": {
   "name": "python"
  }
 },
 "nbformat": 4,
 "nbformat_minor": 2
}
