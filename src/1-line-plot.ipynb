{
 "cells": [
  {
   "cell_type": "markdown",
   "metadata": {},
   "source": [
    "### Exercise 1: Line Plot Customization"
   ]
  },
  {
   "cell_type": "code",
   "execution_count": null,
   "metadata": {},
   "outputs": [],
   "source": [
    "# TASK: Create a line plot with x values ranging from 0 to 10 and y values as the square of x.\n",
    "# Customize the plot by adding a title, labels for both axes, and a grid.\n",
    "import matplotlib.pyplot as plt\n",
    "import numpy as np\n",
    "\n",
    "# Define x values from 0 to 10\n",
    "x = np.linspace(0, 10, 100)\n",
    "y = x ** 2  # Square of x\n",
    "\n",
    "# Create the plot\n",
    "plt.figure(figsize=(8, 5))\n",
    "plt.plot(x, y, label='y = x²', color='b', linewidth=2)\n",
    "\n",
    "# Customizations\n",
    "plt.title(\"Square Function Plot\")\n",
    "plt.xlabel(\"X values\")\n",
    "plt.ylabel(\"Y values (X²)\")\n",
    "plt.grid(True, linestyle='--', alpha=0.7)\n",
    "plt.legend()\n",
    "\n",
    "# Show the plot\n",
    "plt.show()\n"
   ]
  }
 ],
 "metadata": {
  "language_info": {
   "name": "python"
  }
 },
 "nbformat": 4,
 "nbformat_minor": 2
}
