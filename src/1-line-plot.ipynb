{
 "cells": [
  {
   "cell_type": "markdown",
   "metadata": {},
   "source": [
    "### Exercise 1: Line Plot Customization"
   ]
  },
  {
   "cell_type": "code",
   "execution_count": null,
   "metadata": {},
   "outputs": [],
   "source": [
    "# TASK: Create a line plot with x values ranging from 0 to 10 and y values as the square of x.\n",
    "# Customize the plot by adding a title, labels for both axes, and a grid.\n",
    "import matplotlib.pyplot as plt\n",
    "import numpy as np\n",
    "\n",
    "def plot_square_function():\n",
    "    try:\n",
    "        # Define x values from 0 to 10\n",
    "        x = np.linspace(0, 10, 100)\n",
    "\n",
    "        # Validate that x contains numeric values\n",
    "        if x.size == 0 or not np.issubdtype(x.dtype, np.number):\n",
    "            raise ValueError(\"Invalid data: x values must be a non-empty numeric array.\")\n",
    "\n",
    "        y = x ** 2  # Square of x\n",
    "\n",
    "        # Set style for better aesthetics\n",
    "        plt.style.use('seaborn-vivid')\n",
    "\n",
    "        # Create the plot\n",
    "        plt.figure(figsize=(8, 5))\n",
    "        plt.plot(x, y, label='y = x²', color='b', linewidth=2)\n",
    "\n",
    "        # Customizations\n",
    "        plt.title(\"Square Function Plot\", fontsize=14)\n",
    "        plt.xlabel(\"X values\", fontsize=12)\n",
    "        plt.ylabel(\"Y values (X²)\", fontsize=12)\n",
    "        plt.grid(True, linestyle='--', alpha=0.7, which='both')\n",
    "        plt.legend(fontsize=12)\n",
    "\n",
    "        # Show the plot\n",
    "        plt.show()\n",
    "\n",
    "    except ValueError as e:\n",
    "        print(f\"Error: {e}\")\n",
    "    except Exception as e:\n",
    "        print(f\"Unexpected error: {e}\")\n",
    "\n",
    "# Call the function\n",
    "plot_square_function()\n"
   ]
  }
 ],
 "metadata": {
  "language_info": {
   "name": "python"
  }
 },
 "nbformat": 4,
 "nbformat_minor": 2
}
