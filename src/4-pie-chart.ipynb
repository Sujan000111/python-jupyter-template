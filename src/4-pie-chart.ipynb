{
 "cells": [
  {
   "cell_type": "markdown",
   "metadata": {},
   "source": [
    "### Exercise 4: Pie Chart with Percentages"
   ]
  },
  {
   "cell_type": "code",
   "execution_count": null,
   "metadata": {},
   "outputs": [],
   "source": [
    "# TASK: Create a pie chart with the following data: labels = ['Python', 'Java', 'C++', 'JavaScript'] and sizes = [40, 25, 20, 15].\n",
    "# Display the percentages on the chart using autopct.\n",
    "import matplotlib.pyplot as plt\n",
    "\n",
    "# Define labels and sizes\n",
    "labels = ['Python', 'Java', 'C++', 'JavaScript']\n",
    "sizes = [40, 25, 20, 15]  # Ensure these sum to 100\n",
    "colors = ['blue', 'red', 'green', 'orange']\n",
    "\n",
    "# Validation checks\n",
    "if len(labels) != len(sizes):\n",
    "    raise ValueError(\"Error: 'labels' and 'sizes' lists must have the same length.\")\n",
    "\n",
    "if sum(sizes) != 100:\n",
    "    raise ValueError(\"Error: The sum of 'sizes' must be 100 for a valid pie chart.\")\n",
    "\n",
    "# Create the pie chart\n",
    "plt.figure(figsize=(6, 6))\n",
    "explode = (0.1, 0, 0, 0)  # Slightly explode the largest slice (Python)\n",
    "plt.pie(sizes, labels=labels, autopct='%1.1f%%', startangle=140, \n",
    "        colors=colors, explode=explode, shadow=True, textprops={'fontsize': 12})\n",
    "\n",
    "# Equal aspect ratio ensures the pie chart is circular\n",
    "plt.axis('equal')\n",
    "\n",
    "# Title\n",
    "plt.title(\"Programming Language Popularity\", fontsize=14, fontweight='bold')\n",
    "\n",
    "# Show the plot\n",
    "plt.show()\n"
   ]
  }
 ],
 "metadata": {
  "language_info": {
   "name": "python"
  }
 },
 "nbformat": 4,
 "nbformat_minor": 2
}
