{
 "cells": [
  {
   "cell_type": "markdown",
   "metadata": {},
   "source": [
    "### Exercise 2: Bar Plot with Colors"
   ]
  },
  {
   "cell_type": "code",
   "execution_count": null,
   "metadata": {},
   "outputs": [],
   "source": [
    "# TASK: Create a bar plot with the following data: categories = ['A', 'B', 'C', 'D'] and values = [5, 7, 3, 9].\n",
    "# Use different colors for each bar and add a title to the plot.\n",
    "import matplotlib.pyplot as plt\n",
    "\n",
    "# Define categories and values\n",
    "categories = ['A', 'B', 'C', 'D']\n",
    "values = [5, 7, 3, 9]\n",
    "colors = ['red', 'blue', 'green', 'purple']  # Different colors for each bar\n",
    "\n",
    "# Validation check\n",
    "if not (len(categories) == len(values) == len(colors)):\n",
    "    raise ValueError(\"Mismatch: 'categories', 'values', and 'colors' must have the same length.\")\n",
    "\n",
    "# Create the bar plot\n",
    "plt.figure(figsize=(6, 4))\n",
    "bars = plt.bar(categories, values, color=colors, edgecolor='black')\n",
    "\n",
    "# Adding value labels on top of bars\n",
    "for bar in bars:\n",
    "    plt.text(bar.get_x() + bar.get_width()/2, bar.get_height(), \n",
    "             str(bar.get_height()), ha='center', va='bottom', fontsize=10, fontweight='bold')\n",
    "\n",
    "# Customizations\n",
    "plt.title(\"Category-wise Values\", fontsize=14, fontweight='bold')\n",
    "plt.xlabel(\"Categories\", fontsize=12)\n",
    "plt.ylabel(\"Values\", fontsize=12)\n",
    "plt.grid(axis='y', linestyle='--', alpha=0.7)  # Add a light grid\n",
    "\n",
    "# Show the plot\n",
    "plt.show()\n"
   ]
  }
 ],
 "metadata": {
  "language_info": {
   "name": "python"
  }
 },
 "nbformat": 4,
 "nbformat_minor": 2
}
